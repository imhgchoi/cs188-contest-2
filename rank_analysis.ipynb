{
 "cells": [
  {
   "cell_type": "code",
   "execution_count": 110,
   "metadata": {},
   "outputs": [],
   "source": [
    "import numpy as np\n",
    "import pandas as pd\n",
    "\n",
    "import matplotlib\n",
    "import matplotlib.pyplot as plt\n",
    "%matplotlib inline\n",
    "matplotlib.style.use('fivethirtyeight')\n",
    "\n",
    "from os import listdir\n",
    "from os.path import isfile, join\n",
    "\n",
    "import re"
   ]
  },
  {
   "cell_type": "code",
   "execution_count": 111,
   "metadata": {},
   "outputs": [],
   "source": [
    "def removeExtension(file_name):\n",
    "    idx = -1\n",
    "    for i, c in enumerate(file_name):\n",
    "        if c == '.':\n",
    "            idx = i\n",
    "            break\n",
    "    if idx >= 0:\n",
    "        return file_name[:idx]\n",
    "    return file_name"
   ]
  },
  {
   "cell_type": "code",
   "execution_count": 112,
   "metadata": {},
   "outputs": [],
   "source": [
    "SUBMISSIONS_DIR = './submissions/'\n",
    "MATCH_RESULTS_DIR = './match_results/'"
   ]
  },
  {
   "cell_type": "code",
   "execution_count": 113,
   "metadata": {},
   "outputs": [],
   "source": [
    "files = sorted([f for f in listdir(SUBMISSIONS_DIR) if isfile(join(SUBMISSIONS_DIR, f)) and f[-1] != 'c'])\n",
    "names = sorted([removeExtension(f) for f in files])\n",
    "\n",
    "teams = list(zip(files, names))"
   ]
  },
  {
   "cell_type": "code",
   "execution_count": 134,
   "metadata": {},
   "outputs": [],
   "source": [
    "match_results_df = pd.DataFrame(columns=['Team', 'Opponent', 'Wins', 'Losses', 'Ties', 'Invalid'])"
   ]
  },
  {
   "cell_type": "code",
   "execution_count": 135,
   "metadata": {
    "scrolled": false
   },
   "outputs": [],
   "source": [
    "def process_raw_outcome(outcome):\n",
    "    return outcome.replace('\\n', '')\n",
    "\n",
    "for i in range(len(teams)):\n",
    "    for j in range(i + 1, len(teams)):\n",
    "        if i == j:\n",
    "            continue\n",
    "        \n",
    "        file_a, name_a = teams[i]\n",
    "        file_b, name_b = teams[j]\n",
    "        \n",
    "        # Get match results for team a vs team b\n",
    "        match_data_file_name = name_a + '_vs_' + name_b + '.dat'\n",
    "        try:\n",
    "            match_data_file = open(join(MATCH_RESULTS_DIR, match_data_file_name), 'r')\n",
    "        except FileNotFoundError:\n",
    "            continue\n",
    "        outcomes = [process_raw_outcome(l) for l in match_data_file]\n",
    "        match_data_file.close()\n",
    "        \n",
    "        # Get DataFrame props\n",
    "        num_rows, num_cols = match_results_df.shape\n",
    "        \n",
    "        # Insert row if doesn't exist or reset row\n",
    "        index_a, index_b = -1, -1\n",
    "        for k in range(num_rows):\n",
    "            row = match_results_df.loc[k]\n",
    "            if row.Team == name_a and row.Opponent == name_b:\n",
    "                index_a = k\n",
    "            if row.Team == name_b and row.Opponent == name_a:\n",
    "                index_b = k\n",
    "        if index_a == -1 and index_b == -1:\n",
    "            index_a, index_b = num_rows, num_rows + 1\n",
    "        elif index_a == -1:\n",
    "            index_a = num_rows\n",
    "        elif index_b == -1:\n",
    "            index_b == num_rows\n",
    "        \n",
    "        win, loss, tied, invalid = 0, 0, 0, 0\n",
    "        for outcome in outcomes:\n",
    "            if outcome == name_a:\n",
    "                win += 1\n",
    "            elif outcome == name_b:\n",
    "                loss += 1\n",
    "            elif outcome == 'tied':\n",
    "                tied += 1\n",
    "            elif outcome == 'invalid':\n",
    "                invalid += 1\n",
    "            else:\n",
    "                raise Error('Invalid match outcome')\n",
    "        match_results_df.loc[index_a] = [name_a, name_b, win, loss, tied, invalid]\n",
    "        match_results_df.loc[index_b] = [name_b, name_a, loss, win, tied, invalid]"
   ]
  },
  {
   "cell_type": "code",
   "execution_count": 139,
   "metadata": {},
   "outputs": [
    {
     "data": {
      "text/plain": [
       "(1756, 6)"
      ]
     },
     "execution_count": 139,
     "metadata": {},
     "output_type": "execute_result"
    }
   ],
   "source": [
    "match_results_df.shape"
   ]
  },
  {
   "cell_type": "code",
   "execution_count": 136,
   "metadata": {},
   "outputs": [
    {
     "data": {
      "text/html": [
       "<div>\n",
       "<style scoped>\n",
       "    .dataframe tbody tr th:only-of-type {\n",
       "        vertical-align: middle;\n",
       "    }\n",
       "\n",
       "    .dataframe tbody tr th {\n",
       "        vertical-align: top;\n",
       "    }\n",
       "\n",
       "    .dataframe thead th {\n",
       "        text-align: right;\n",
       "    }\n",
       "</style>\n",
       "<table border=\"1\" class=\"dataframe\">\n",
       "  <thead>\n",
       "    <tr style=\"text-align: right;\">\n",
       "      <th></th>\n",
       "      <th>Team</th>\n",
       "      <th>Opponent</th>\n",
       "      <th>Wins</th>\n",
       "      <th>Losses</th>\n",
       "      <th>Ties</th>\n",
       "      <th>Invalid</th>\n",
       "    </tr>\n",
       "  </thead>\n",
       "  <tbody>\n",
       "    <tr>\n",
       "      <th>0</th>\n",
       "      <td>PacBot_Kevin_Cao</td>\n",
       "      <td>baselineTeam2_Rachel_Li</td>\n",
       "      <td>9</td>\n",
       "      <td>3</td>\n",
       "      <td>0</td>\n",
       "      <td>3</td>\n",
       "    </tr>\n",
       "    <tr>\n",
       "      <th>1</th>\n",
       "      <td>baselineTeam2_Rachel_Li</td>\n",
       "      <td>PacBot_Kevin_Cao</td>\n",
       "      <td>3</td>\n",
       "      <td>9</td>\n",
       "      <td>0</td>\n",
       "      <td>3</td>\n",
       "    </tr>\n",
       "    <tr>\n",
       "      <th>2</th>\n",
       "      <td>PacBot_Kevin_Cao</td>\n",
       "      <td>baselineTeam2_Raghav_Anand</td>\n",
       "      <td>7</td>\n",
       "      <td>8</td>\n",
       "      <td>0</td>\n",
       "      <td>0</td>\n",
       "    </tr>\n",
       "    <tr>\n",
       "      <th>3</th>\n",
       "      <td>baselineTeam2_Raghav_Anand</td>\n",
       "      <td>PacBot_Kevin_Cao</td>\n",
       "      <td>8</td>\n",
       "      <td>7</td>\n",
       "      <td>0</td>\n",
       "      <td>0</td>\n",
       "    </tr>\n",
       "    <tr>\n",
       "      <th>4</th>\n",
       "      <td>PacBot_Kevin_Cao</td>\n",
       "      <td>cleverTeam_Dylan_Rowe</td>\n",
       "      <td>10</td>\n",
       "      <td>5</td>\n",
       "      <td>0</td>\n",
       "      <td>0</td>\n",
       "    </tr>\n",
       "  </tbody>\n",
       "</table>\n",
       "</div>"
      ],
      "text/plain": [
       "                         Team                    Opponent Wins Losses Ties  \\\n",
       "0            PacBot_Kevin_Cao     baselineTeam2_Rachel_Li    9      3    0   \n",
       "1     baselineTeam2_Rachel_Li            PacBot_Kevin_Cao    3      9    0   \n",
       "2            PacBot_Kevin_Cao  baselineTeam2_Raghav_Anand    7      8    0   \n",
       "3  baselineTeam2_Raghav_Anand            PacBot_Kevin_Cao    8      7    0   \n",
       "4            PacBot_Kevin_Cao       cleverTeam_Dylan_Rowe   10      5    0   \n",
       "\n",
       "  Invalid  \n",
       "0       3  \n",
       "1       3  \n",
       "2       0  \n",
       "3       0  \n",
       "4       0  "
      ]
     },
     "execution_count": 136,
     "metadata": {},
     "output_type": "execute_result"
    }
   ],
   "source": [
    "match_results_df.head()"
   ]
  },
  {
   "cell_type": "code",
   "execution_count": 223,
   "metadata": {},
   "outputs": [
    {
     "data": {
      "text/plain": [
       "(942, 9)"
      ]
     },
     "execution_count": 223,
     "metadata": {},
     "output_type": "execute_result"
    }
   ],
   "source": [
    "match_results_df[match_results_df['Invalid'] > 10].shape"
   ]
  },
  {
   "cell_type": "code",
   "execution_count": 224,
   "metadata": {
    "scrolled": false
   },
   "outputs": [
    {
     "data": {
      "text/html": [
       "<div>\n",
       "<style scoped>\n",
       "    .dataframe tbody tr th:only-of-type {\n",
       "        vertical-align: middle;\n",
       "    }\n",
       "\n",
       "    .dataframe tbody tr th {\n",
       "        vertical-align: top;\n",
       "    }\n",
       "\n",
       "    .dataframe thead th {\n",
       "        text-align: right;\n",
       "    }\n",
       "</style>\n",
       "<table border=\"1\" class=\"dataframe\">\n",
       "  <thead>\n",
       "    <tr style=\"text-align: right;\">\n",
       "      <th></th>\n",
       "      <th>Team</th>\n",
       "      <th>Opponent</th>\n",
       "      <th>Wins</th>\n",
       "      <th>Losses</th>\n",
       "      <th>Ties</th>\n",
       "      <th>Invalid</th>\n",
       "      <th>margin</th>\n",
       "      <th>w_elo</th>\n",
       "      <th>l_elo</th>\n",
       "    </tr>\n",
       "  </thead>\n",
       "  <tbody>\n",
       "    <tr>\n",
       "      <th>77</th>\n",
       "      <td>myTeam_Laura_Smith</td>\n",
       "      <td>PacBot_Kevin_Cao</td>\n",
       "      <td>1</td>\n",
       "      <td>0</td>\n",
       "      <td>0</td>\n",
       "      <td>14</td>\n",
       "      <td>1</td>\n",
       "      <td>1501.654164</td>\n",
       "      <td>1492.519507</td>\n",
       "    </tr>\n",
       "    <tr>\n",
       "      <th>165</th>\n",
       "      <td>myTeam_Laura_Smith</td>\n",
       "      <td>baselineTeam2_Rachel_Li</td>\n",
       "      <td>9</td>\n",
       "      <td>4</td>\n",
       "      <td>2</td>\n",
       "      <td>0</td>\n",
       "      <td>5</td>\n",
       "      <td>1510.445406</td>\n",
       "      <td>1491.166458</td>\n",
       "    </tr>\n",
       "    <tr>\n",
       "      <th>251</th>\n",
       "      <td>myTeam_Laura_Smith</td>\n",
       "      <td>baselineTeam2_Raghav_Anand</td>\n",
       "      <td>9</td>\n",
       "      <td>6</td>\n",
       "      <td>0</td>\n",
       "      <td>0</td>\n",
       "      <td>3</td>\n",
       "      <td>1516.501248</td>\n",
       "      <td>1526.669222</td>\n",
       "    </tr>\n",
       "    <tr>\n",
       "      <th>335</th>\n",
       "      <td>myTeam_Laura_Smith</td>\n",
       "      <td>cleverTeam_Dylan_Rowe</td>\n",
       "      <td>9</td>\n",
       "      <td>5</td>\n",
       "      <td>1</td>\n",
       "      <td>0</td>\n",
       "      <td>4</td>\n",
       "      <td>1523.351060</td>\n",
       "      <td>1482.486907</td>\n",
       "    </tr>\n",
       "    <tr>\n",
       "      <th>417</th>\n",
       "      <td>myTeam_Laura_Smith</td>\n",
       "      <td>contest_ANISH_SAHA</td>\n",
       "      <td>0</td>\n",
       "      <td>0</td>\n",
       "      <td>0</td>\n",
       "      <td>15</td>\n",
       "      <td>0</td>\n",
       "      <td>1522.845509</td>\n",
       "      <td>1499.048999</td>\n",
       "    </tr>\n",
       "  </tbody>\n",
       "</table>\n",
       "</div>"
      ],
      "text/plain": [
       "                   Team                    Opponent Wins Losses Ties Invalid  \\\n",
       "77   myTeam_Laura_Smith            PacBot_Kevin_Cao    1      0    0      14   \n",
       "165  myTeam_Laura_Smith     baselineTeam2_Rachel_Li    9      4    2       0   \n",
       "251  myTeam_Laura_Smith  baselineTeam2_Raghav_Anand    9      6    0       0   \n",
       "335  myTeam_Laura_Smith       cleverTeam_Dylan_Rowe    9      5    1       0   \n",
       "417  myTeam_Laura_Smith          contest_ANISH_SAHA    0      0    0      15   \n",
       "\n",
       "    margin        w_elo        l_elo  \n",
       "77       1  1501.654164  1492.519507  \n",
       "165      5  1510.445406  1491.166458  \n",
       "251      3  1516.501248  1526.669222  \n",
       "335      4  1523.351060  1482.486907  \n",
       "417      0  1522.845509  1499.048999  "
      ]
     },
     "execution_count": 224,
     "metadata": {},
     "output_type": "execute_result"
    }
   ],
   "source": [
    "match_results_df[match_results_df['Team'] == 'myTeam_Laura_Smith'].head()"
   ]
  },
  {
   "cell_type": "code",
   "execution_count": 220,
   "metadata": {},
   "outputs": [
    {
     "data": {
      "text/plain": [
       "['contest_ANISH_SAHA',\n",
       " 'contest_ANISH_SAHA_1',\n",
       " 'myTeam2_SEAN_ADAM_MEDIN',\n",
       " 'myTeam_Colin_K_Lai',\n",
       " 'myTeam_SHARABESH_RAMESH',\n",
       " 'myTeam_Shreya_Sahoo',\n",
       " 'myTeam_Xing_Jin']"
      ]
     },
     "execution_count": 220,
     "metadata": {},
     "output_type": "execute_result"
    }
   ],
   "source": [
    "invalid_dict = dict(zip(names, [0] * len(names)))\n",
    "for file, name in teams:\n",
    "    invalids = match_results_df[(match_results_df['Invalid'] > 10) & (match_results_df['Team'] == name)].shape[0]\n",
    "    invalid_dict[name] += invalids\n",
    "    \n",
    "INVALID_THRESH = 30\n",
    "invalid_list = [name for name in names if invalid_dict[name] > INVALID_THRESH]\n",
    "invalid_list"
   ]
  },
  {
   "cell_type": "code",
   "execution_count": 152,
   "metadata": {},
   "outputs": [
    {
     "data": {
      "image/png": "[encoded data removed]",
      "text/plain": [
       "<matplotlib.figure.Figure at 0x7fd438231518>"
      ]
     },
     "metadata": {},
     "output_type": "display_data"
    }
   ],
   "source": [
    "plt.hist(list(invalid_dict.values()), bins=np.arange(0, 55, 5))\n",
    "plt.show()"
   ]
  },
  {
   "cell_type": "markdown",
   "metadata": {},
   "source": [
    "# Elo"
   ]
  },
  {
   "cell_type": "code",
   "execution_count": 141,
   "metadata": {},
   "outputs": [],
   "source": [
    "elo_dict = dict(zip(names, [1500] * len(names)))"
   ]
  },
  {
   "cell_type": "code",
   "execution_count": 143,
   "metadata": {},
   "outputs": [],
   "source": [
    "match_results_df['margin'] = match_results_df.Wins - match_results_df.Losses"
   ]
  },
  {
   "cell_type": "code",
   "execution_count": 156,
   "metadata": {},
   "outputs": [],
   "source": [
    "def elo_pred(elo1, elo2):\n",
    "    return(1. / (10. ** (-(elo1 - elo2) / 400.) + 1.))\n",
    "\n",
    "def expected_margin(elo_diff):\n",
    "    return((7.5 + 0.006 * elo_diff))\n",
    "\n",
    "def elo_update(w_elo, l_elo, margin, K=20):\n",
    "    elo_diff = w_elo - l_elo\n",
    "    pred = elo_pred(w_elo, l_elo)\n",
    "    mult = ((margin + 3.) ** 0.8) / expected_margin(elo_diff)\n",
    "    update = K * mult * (1 - pred)\n",
    "    return(pred, update)"
   ]
  },
  {
   "cell_type": "code",
   "execution_count": 157,
   "metadata": {},
   "outputs": [],
   "source": [
    "preds = []\n",
    "w_elo = []\n",
    "l_elo = []\n",
    "\n",
    "# Loop over all rows of the games dataframe\n",
    "for row in match_results_df.itertuples():\n",
    "    # Get key data from current row\n",
    "    w = row.Team\n",
    "    l = row.Opponent\n",
    "    margin = row.margin\n",
    "    \n",
    "    # Get elo updates as a result of the game\n",
    "    pred, update = elo_update(elo_dict[w],\n",
    "                              elo_dict[l], \n",
    "                              margin)\n",
    "    elo_dict[w] += update\n",
    "    elo_dict[l] -= update\n",
    "    \n",
    "    # Save prediction and new Elos for each round\n",
    "    preds.append(pred)\n",
    "    w_elo.append(elo_dict[w])\n",
    "    l_elo.append(elo_dict[l])"
   ]
  },
  {
   "cell_type": "code",
   "execution_count": 184,
   "metadata": {},
   "outputs": [],
   "source": [
    "win_elo = []\n",
    "for w in w_elo:\n",
    "    if isinstance(w, complex):\n",
    "        win_elo.append(w.real)\n",
    "    else:\n",
    "        win_elo.append(w)\n",
    "        \n",
    "loss_elo = []\n",
    "for l in l_elo:\n",
    "    if isinstance(l, complex):\n",
    "        loss_elo.append(l.real)\n",
    "    else:\n",
    "        loss_elo.append(l)"
   ]
  },
  {
   "cell_type": "code",
   "execution_count": 185,
   "metadata": {},
   "outputs": [],
   "source": [
    "match_results_df['w_elo'] = win_elo\n",
    "match_results_df['l_elo'] = loss_elo"
   ]
  },
  {
   "cell_type": "code",
   "execution_count": 186,
   "metadata": {},
   "outputs": [
    {
     "data": {
      "text/html": [
       "<div>\n",
       "<style scoped>\n",
       "    .dataframe tbody tr th:only-of-type {\n",
       "        vertical-align: middle;\n",
       "    }\n",
       "\n",
       "    .dataframe tbody tr th {\n",
       "        vertical-align: top;\n",
       "    }\n",
       "\n",
       "    .dataframe thead th {\n",
       "        text-align: right;\n",
       "    }\n",
       "</style>\n",
       "<table border=\"1\" class=\"dataframe\">\n",
       "  <thead>\n",
       "    <tr style=\"text-align: right;\">\n",
       "      <th></th>\n",
       "      <th>Team</th>\n",
       "      <th>Opponent</th>\n",
       "      <th>Wins</th>\n",
       "      <th>Losses</th>\n",
       "      <th>Ties</th>\n",
       "      <th>Invalid</th>\n",
       "      <th>margin</th>\n",
       "      <th>w_elo</th>\n",
       "      <th>l_elo</th>\n",
       "    </tr>\n",
       "  </thead>\n",
       "  <tbody>\n",
       "    <tr>\n",
       "      <th>1746</th>\n",
       "      <td>myTeam_Laura_Smith</td>\n",
       "      <td>myTeam_Swapnil_Das</td>\n",
       "      <td>0</td>\n",
       "      <td>0</td>\n",
       "      <td>0</td>\n",
       "      <td>15</td>\n",
       "      <td>0</td>\n",
       "      <td>1540.041755</td>\n",
       "      <td>1544.505952</td>\n",
       "    </tr>\n",
       "    <tr>\n",
       "      <th>1747</th>\n",
       "      <td>myTeam_Swapnil_Das</td>\n",
       "      <td>myTeam_Laura_Smith</td>\n",
       "      <td>0</td>\n",
       "      <td>0</td>\n",
       "      <td>0</td>\n",
       "      <td>15</td>\n",
       "      <td>0</td>\n",
       "      <td>1547.664383</td>\n",
       "      <td>1536.883325</td>\n",
       "    </tr>\n",
       "    <tr>\n",
       "      <th>1748</th>\n",
       "      <td>myTeam_Laura_Smith</td>\n",
       "      <td>myTeam_Swapnil_Das_1</td>\n",
       "      <td>0</td>\n",
       "      <td>0</td>\n",
       "      <td>0</td>\n",
       "      <td>15</td>\n",
       "      <td>0</td>\n",
       "      <td>1540.121772</td>\n",
       "      <td>1535.971192</td>\n",
       "    </tr>\n",
       "    <tr>\n",
       "      <th>1749</th>\n",
       "      <td>myTeam_Swapnil_Das_1</td>\n",
       "      <td>myTeam_Laura_Smith</td>\n",
       "      <td>0</td>\n",
       "      <td>0</td>\n",
       "      <td>0</td>\n",
       "      <td>15</td>\n",
       "      <td>0</td>\n",
       "      <td>1539.231298</td>\n",
       "      <td>1536.861666</td>\n",
       "    </tr>\n",
       "    <tr>\n",
       "      <th>1750</th>\n",
       "      <td>myTeam_SHARABESH_RAMESH</td>\n",
       "      <td>myTeam_Swapnil_Das</td>\n",
       "      <td>0</td>\n",
       "      <td>0</td>\n",
       "      <td>0</td>\n",
       "      <td>15</td>\n",
       "      <td>0</td>\n",
       "      <td>1505.987942</td>\n",
       "      <td>1543.899605</td>\n",
       "    </tr>\n",
       "    <tr>\n",
       "      <th>1751</th>\n",
       "      <td>myTeam_Swapnil_Das</td>\n",
       "      <td>myTeam_SHARABESH_RAMESH</td>\n",
       "      <td>0</td>\n",
       "      <td>0</td>\n",
       "      <td>0</td>\n",
       "      <td>15</td>\n",
       "      <td>0</td>\n",
       "      <td>1546.676304</td>\n",
       "      <td>1503.211242</td>\n",
       "    </tr>\n",
       "    <tr>\n",
       "      <th>1752</th>\n",
       "      <td>myTeam_SHARABESH_RAMESH</td>\n",
       "      <td>myTeam_Swapnil_Das_1</td>\n",
       "      <td>0</td>\n",
       "      <td>0</td>\n",
       "      <td>0</td>\n",
       "      <td>15</td>\n",
       "      <td>0</td>\n",
       "      <td>1506.858642</td>\n",
       "      <td>1535.583899</td>\n",
       "    </tr>\n",
       "    <tr>\n",
       "      <th>1753</th>\n",
       "      <td>myTeam_Swapnil_Das_1</td>\n",
       "      <td>myTeam_SHARABESH_RAMESH</td>\n",
       "      <td>0</td>\n",
       "      <td>0</td>\n",
       "      <td>0</td>\n",
       "      <td>15</td>\n",
       "      <td>0</td>\n",
       "      <td>1538.463269</td>\n",
       "      <td>1503.979271</td>\n",
       "    </tr>\n",
       "    <tr>\n",
       "      <th>1754</th>\n",
       "      <td>myTeam_Shreya_Sahoo</td>\n",
       "      <td>myTeam_Swapnil_Das</td>\n",
       "      <td>0</td>\n",
       "      <td>0</td>\n",
       "      <td>0</td>\n",
       "      <td>15</td>\n",
       "      <td>0</td>\n",
       "      <td>1490.689683</td>\n",
       "      <td>1542.728194</td>\n",
       "    </tr>\n",
       "    <tr>\n",
       "      <th>1755</th>\n",
       "      <td>myTeam_Swapnil_Das</td>\n",
       "      <td>myTeam_Shreya_Sahoo</td>\n",
       "      <td>0</td>\n",
       "      <td>0</td>\n",
       "      <td>0</td>\n",
       "      <td>15</td>\n",
       "      <td>0</td>\n",
       "      <td>1545.351282</td>\n",
       "      <td>1488.066596</td>\n",
       "    </tr>\n",
       "  </tbody>\n",
       "</table>\n",
       "</div>"
      ],
      "text/plain": [
       "                         Team                 Opponent Wins Losses Ties  \\\n",
       "1746       myTeam_Laura_Smith       myTeam_Swapnil_Das    0      0    0   \n",
       "1747       myTeam_Swapnil_Das       myTeam_Laura_Smith    0      0    0   \n",
       "1748       myTeam_Laura_Smith     myTeam_Swapnil_Das_1    0      0    0   \n",
       "1749     myTeam_Swapnil_Das_1       myTeam_Laura_Smith    0      0    0   \n",
       "1750  myTeam_SHARABESH_RAMESH       myTeam_Swapnil_Das    0      0    0   \n",
       "1751       myTeam_Swapnil_Das  myTeam_SHARABESH_RAMESH    0      0    0   \n",
       "1752  myTeam_SHARABESH_RAMESH     myTeam_Swapnil_Das_1    0      0    0   \n",
       "1753     myTeam_Swapnil_Das_1  myTeam_SHARABESH_RAMESH    0      0    0   \n",
       "1754      myTeam_Shreya_Sahoo       myTeam_Swapnil_Das    0      0    0   \n",
       "1755       myTeam_Swapnil_Das      myTeam_Shreya_Sahoo    0      0    0   \n",
       "\n",
       "     Invalid margin        w_elo        l_elo  \n",
       "1746      15      0  1540.041755  1544.505952  \n",
       "1747      15      0  1547.664383  1536.883325  \n",
       "1748      15      0  1540.121772  1535.971192  \n",
       "1749      15      0  1539.231298  1536.861666  \n",
       "1750      15      0  1505.987942  1543.899605  \n",
       "1751      15      0  1546.676304  1503.211242  \n",
       "1752      15      0  1506.858642  1535.583899  \n",
       "1753      15      0  1538.463269  1503.979271  \n",
       "1754      15      0  1490.689683  1542.728194  \n",
       "1755      15      0  1545.351282  1488.066596  "
      ]
     },
     "execution_count": 186,
     "metadata": {},
     "output_type": "execute_result"
    }
   ],
   "source": [
    "match_results_df.tail(10)"
   ]
  },
  {
   "cell_type": "code",
   "execution_count": 187,
   "metadata": {},
   "outputs": [],
   "source": [
    "final_elo_dict = dict(zip(names, [1500] * len(names)))"
   ]
  },
  {
   "cell_type": "code",
   "execution_count": 188,
   "metadata": {},
   "outputs": [],
   "source": [
    "for row in match_results_df.itertuples():\n",
    "    final_elo_dict[row.Team] = row.w_elo\n",
    "    final_elo_dict[row.Opponent] = row.l_elo"
   ]
  },
  {
   "cell_type": "code",
   "execution_count": 222,
   "metadata": {},
   "outputs": [
    {
     "name": "stdout",
     "output_type": "stream",
     "text": [
      "1. myTeam3_4foodNum_ALI_KHALEEL_AHMED (1651.146)\n",
      "2. myTeam3_5foodNum_ALI_KHALEEL_AHMED (1636.957)\n",
      "3. myTeam3_ALI_KHALEEL_AHMED (1594.535)\n",
      "4. myTeam2_ALI_KHALEEL_AHMED (1592.844)\n",
      "5. myTeam3_ALI_KHALEEL_AHMED_6 (1586.211)\n",
      "6. myTeam_Christina_Baek (1577.626)\n",
      "7. myTeam2_ALI_KHALEEL_AHMED_1 (1569.566)\n",
      "8. myTeam_Christina_Baek_1 (1564.816)\n",
      "9. myTeam2_4foodNum_ALI_KHALEEL_AHMED (1555.013)\n",
      "10. myTeam3_ALI_KHALEEL_AHMED_1 (1552.318)\n",
      "11. myTeam_Swapnil_Das (1545.351)\n",
      "12. myTeam3_ALI_KHALEEL_AHMED_3 (1540.821)\n",
      "13. myTeam_Swapnil_Das_1 (1538.463)\n",
      "14. myTeam_Laura_Smith (1536.862)\n",
      "15. myTeam2_5foodNum_ALI_KHALEEL_AHMED (1530.577)\n",
      "16. myTeam3_ALI_KHALEEL_AHMED_2 (1530.078)\n",
      "17. myTeam_Benjamin_Carlson (1524.241)\n",
      "18. PacBot_Kevin_Cao (1520.497)\n",
      "19. myTeam3_ALI_KHALEEL_AHMED_4 (1517.816)\n",
      "20. baselineTeam2_Raghav_Anand (1513.079)\n",
      "21. myTeam_Colin_K_Lai_1 (1510.843)\n",
      "22. coolTeam_SONTHAYA_VISUTHIKRAISEE (1510.274)\n",
      "23. myTeam3_ALI_KHALEEL_AHMED_5 (1498.870)\n",
      "24. myTeam_Joshua_Yurtsever (1492.371)\n",
      "25. cleverTeam_Dylan_Rowe (1487.972)\n",
      "26. baselineTeam2_Rachel_Li (1470.291)\n",
      "27. myTeam_Benjamin_Carlson_1 (1469.416)\n",
      "28. myTeam_ALI_KHALEEL_AHMED_3 (1467.835)\n",
      "29. myTeam_Julia_Luo (1440.544)\n",
      "30. myTeam_Jesse_Zhang_Zhang (1436.974)\n",
      "31. myTeam_ALI_KHALEEL_AHMED (1429.983)\n",
      "32. veryCleverTeam_Gao_Xian_Peh (1423.080)\n",
      "33. myTeam_ALI_KHALEEL_AHMED_2 (1422.805)\n",
      "34. myTeam_ALI_KHALEEL_AHMED_1 (1418.884)\n",
      "35. myTeam_ALI_KHALEEL_AHMED_4 (1388.365)\n",
      "36. myTeam_ANISH_SAHA (1387.808)\n",
      "37. myTeam_ANTON_SHELBY_OYUNG_1 (1380.159)\n",
      "38. myTeam_DONGMIN_KANG (1346.283)\n",
      "39. myTeam_ANTON_SHELBY_OYUNG (1324.614)\n"
     ]
    }
   ],
   "source": [
    "rankings = zip(final_elo_dict.keys(), final_elo_dict.values())\n",
    "rankings = [r for r in rankings if r[0] not in invalid_list]\n",
    "rankings = sorted(list(rankings), key=lambda x: -x[1])\n",
    "place = 1\n",
    "for name, elo in rankings:\n",
    "    print('%d.' %place, name, '(%.3f)' % elo)\n",
    "    place += 1"
   ]
  },
  {
   "cell_type": "code",
   "execution_count": null,
   "metadata": {},
   "outputs": [],
   "source": []
  }
 ],
 "metadata": {
  "kernelspec": {
   "display_name": "Python [conda env:kaggle]",
   "language": "python",
   "name": "conda-env-kaggle-py"
  },
  "language_info": {
   "codemirror_mode": {
    "name": "ipython",
    "version": 3
   },
   "file_extension": ".py",
   "mimetype": "text/x-python",
   "name": "python",
   "nbconvert_exporter": "python",
   "pygments_lexer": "ipython3",
   "version": "3.6.4"
  }
 },
 "nbformat": 4,
 "nbformat_minor": 2
}
